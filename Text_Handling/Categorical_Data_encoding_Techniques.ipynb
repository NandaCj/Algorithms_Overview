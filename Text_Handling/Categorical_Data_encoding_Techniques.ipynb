{
 "cells": [
  {
   "cell_type": "markdown",
   "metadata": {},
   "source": [
    "# Kaggle Links :\n",
    "- [Text Based Feature Engineering](https://www.kaggle.com/lalitparihar44/detailed-text-based-feature-engineering/notebook)\n",
    "- [Author Identification Competition](https://www.kaggle.com/c/spooky-author-identification/data)"
   ]
  },
  {
   "cell_type": "markdown",
   "metadata": {},
   "source": [
    "# Categorical Data\n",
    "- Datasets having alphabets, words etc... are considered to be Categorical data\n",
    "- Most machine learning algorithms needs numeric data for better performance\n",
    "- Converting those text/categorical data into numeric data is called text data encoding\n",
    "- here lets see popular techniques used for it"
   ]
  },
  {
   "cell_type": "markdown",
   "metadata": {},
   "source": [
    "# Data Cleaning :\n",
    "- Datasets having categorical data may have some additional less important words.\n",
    "- Removing those less import words is Data Cleaning\n",
    "\n",
    "# Data Encoding :\n",
    "- After Data cleaning, the cleaned data is converted into numeric data \n",
    "- this is called Data encoding "
   ]
  },
  {
   "cell_type": "markdown",
   "metadata": {},
   "source": [
    "# Categorical Data Pre-processing :\n",
    "- Data Cleaning followed by Data Encoding is Categorical Data Preprocessing"
   ]
  },
  {
   "cell_type": "code",
   "execution_count": null,
   "metadata": {},
   "outputs": [],
   "source": []
  }
 ],
 "metadata": {
  "kernelspec": {
   "display_name": "Python 3",
   "language": "python",
   "name": "python3"
  },
  "language_info": {
   "codemirror_mode": {
    "name": "ipython",
    "version": 3
   },
   "file_extension": ".py",
   "mimetype": "text/x-python",
   "name": "python",
   "nbconvert_exporter": "python",
   "pygments_lexer": "ipython3",
   "version": "3.6.5"
  }
 },
 "nbformat": 4,
 "nbformat_minor": 2
}
