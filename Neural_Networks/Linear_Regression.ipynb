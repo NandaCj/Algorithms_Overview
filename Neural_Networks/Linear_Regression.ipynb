{
 "cells": [
  {
   "cell_type": "markdown",
   "metadata": {},
   "source": [
    "# Neural Network Explained with Multi Linear Regression\n",
    "    - Noraml Equation can be used in Tensorflow for finding best_theta \n",
    "    - Here its practised with Gradient Descent\n",
    "    - each time trainer run , then only one instance is trained "
   ]
  },
  {
   "cell_type": "code",
   "execution_count": 17,
   "metadata": {},
   "outputs": [],
   "source": [
    "%matplotlib inline\n",
    "import pandas as pd\n",
    "import numpy as np\n",
    "import matplotlib.pyplot as plt\n",
    "\n",
    "#Tensorflow\n",
    "import tensorflow as tf\n",
    "\n",
    "# Formatting...\n",
    "float_formatter = lambda x: \"%.4f\" % x\n",
    "np.set_printoptions(formatter={'float_kind':float_formatter})\n",
    "\n",
    "\n",
    "#Sklearn \n",
    "from sklearn.preprocessing import StandardScaler, MinMaxScaler\n",
    "from sklearn.linear_model import LinearRegression\n",
    "\n",
    "scaler = StandardScaler()\n",
    "normalizer = MinMaxScaler()"
   ]
  },
  {
   "cell_type": "markdown",
   "metadata": {},
   "source": [
    "# Data Prepared with Tensorflow"
   ]
  },
  {
   "cell_type": "code",
   "execution_count": 81,
   "metadata": {},
   "outputs": [
    {
     "name": "stdout",
     "output_type": "stream",
     "text": [
      "(10, 1) <class 'tensorflow.python.framework.ops.Tensor'> Tensor(\"Const_19:0\", shape=(10, 1), dtype=float32)\n",
      "(10, 1) <class 'tensorflow.python.framework.ops.Tensor'> Tensor(\"Mul_56:0\", shape=(10, 1), dtype=float32)\n"
     ]
    }
   ],
   "source": [
    "# X = tf.random_uniform((3, 3), minval=1, maxval=10, dtype=tf.int64)\n",
    "n = 10 \n",
    "learning_rate = 0.01\n",
    "\n",
    "cons = np.array([x for x in range(1, n+1)], dtype=np.float32)\n",
    "X = tf.constant(cons.reshape(-1, 1))\n",
    "# X = tf.random_uniform((5,1), minval=1, maxval=10,  dtype=tf.int32)\n",
    "y = tf.multiply(X, 2)\n",
    "\n",
    "print(X.shape, type(X), X)\n",
    "print(y.shape, type(y), y)\n",
    "\n",
    "# X = tf.reshape(X, (-1, 1))\n",
    "# y = tf.reshape(y, (-1, 1))\n",
    "\n",
    "# print(X.shape, type(X), X)\n",
    "# print(y.shape, type(y), y)\n",
    "\n",
    "# no_of_weights = no_of_input_values (n)\n",
    "# number_of_neuron = 1 # number_of_weights = 1\n",
    " \n",
    "theta = tf.Variable(tf.random_uniform([1, 1], -1.0, 1.0), name =\"theta\") \n",
    "y_pred = tf.matmul(X, theta)\n",
    "error = y_pred - y \n",
    "square = tf.square(error)\n",
    "mse = tf.reduce_mean( tf.square( error), name =\"mse\")\n",
    "gradients = 2/n * tf.matmul(tf.transpose(X), error)\n",
    "training_op = tf.assign(theta, theta - learning_rate * gradients)\n",
    "\n",
    "# W = tf.Variable()"
   ]
  },
  {
   "cell_type": "code",
   "execution_count": 83,
   "metadata": {},
   "outputs": [
    {
     "name": "stdout",
     "output_type": "stream",
     "text": [
      "X: [[1.0000 2.0000 3.0000 4.0000 5.0000 6.0000 7.0000 8.0000 9.0000 10.0000]]\n",
      "y: [[2.0000 4.0000 6.0000 8.0000 10.0000 12.0000 14.0000 16.0000 18.0000\n",
      "  20.0000]]\n",
      "Initial Theta Value :  [[0.1559]]\n",
      "Theta Value :  [[0.1559]]\n",
      "Training the Model ... with instance X = [1.0000], y = [2.0000]\n",
      "MSE = 130.93164\n",
      "Theta Value :  [[1.5758]]\n",
      "Training the Model ... with instance X = [2.0000], y = [4.0000]\n",
      "MSE = 6.9262857\n",
      "Theta Value :  [[1.9024]]\n",
      "Training the Model ... with instance X = [3.0000], y = [6.0000]\n",
      "MSE = 0.3664004\n",
      "Theta Value :  [[1.9776]]\n",
      "Training the Model ... with instance X = [4.0000], y = [8.0000]\n",
      "MSE = 0.019382676\n",
      "Theta Value :  [[1.9948]]\n",
      "Training the Model ... with instance X = [5.0000], y = [10.0000]\n",
      "MSE = 0.001025318\n",
      "Theta Value :  [[1.9988]]\n",
      "Training the Model ... with instance X = [6.0000], y = [12.0000]\n",
      "MSE = 5.4242166e-05\n",
      "Theta Value :  [[1.9997]]\n",
      "Training the Model ... with instance X = [7.0000], y = [14.0000]\n",
      "MSE = 2.868985e-06\n",
      "Theta Value :  [[1.9999]]\n",
      "Training the Model ... with instance X = [8.0000], y = [16.0000]\n",
      "MSE = 1.5171099e-07\n",
      "Theta Value :  [[2.0000]]\n",
      "Training the Model ... with instance X = [9.0000], y = [18.0000]\n",
      "MSE = 8.16006e-09\n",
      "Theta Value :  [[2.0000]]\n",
      "Training the Model ... with instance X = [10.0000], y = [20.0000]\n",
      "MSE = 4.3769433e-10\n"
     ]
    }
   ],
   "source": [
    "\n",
    "init = tf.initialize_all_variables()\n",
    "with tf.Session() as sess:\n",
    "    \n",
    "    tmpX = X.eval()\n",
    "    tmpy = y.eval()\n",
    "    sess.run(init)\n",
    "    print(\"X:\",tmpX.reshape(1,-1))\n",
    "    print(\"y:\",tmpy.reshape(1, -1))\n",
    "    print(\"Initial Theta Value : \",theta.eval())\n",
    "    for i in range(n):\n",
    "        print(\"Theta Value : \",theta.eval())\n",
    "        print(\"Training the Model ... with instance X = {}, y = {}\".format(tmpX[i], tmpy[i]))\n",
    "        print(\"MSE =\", mse.eval()) \n",
    "        sess.run(training_op) \n",
    "        \n"
   ]
  },
  {
   "cell_type": "code",
   "execution_count": 77,
   "metadata": {},
   "outputs": [
    {
     "name": "stdout",
     "output_type": "stream",
     "text": [
      "X: [[1.0000]\n",
      " [2.0000]\n",
      " [3.0000]\n",
      " [4.0000]\n",
      " [5.0000]\n",
      " [6.0000]\n",
      " [7.0000]\n",
      " [8.0000]\n",
      " [9.0000]\n",
      " [10.0000]]\n",
      "y: [[2.0000]\n",
      " [4.0000]\n",
      " [6.0000]\n",
      " [8.0000]\n",
      " [10.0000]\n",
      " [12.0000]\n",
      " [14.0000]\n",
      " [16.0000]\n",
      " [18.0000]\n",
      " [20.0000]]\n",
      "Theta:  [[-0.5381]]\n"
     ]
    }
   ],
   "source": [
    "init = tf.initialize_all_variables()\n",
    "with tf.Session() as sess:\n",
    "    tmpX = X.eval()\n",
    "    tmpy = y.eval()\n",
    "    \n",
    "    sess.run(init)\n",
    "    tmpTheta=theta.eval()\n",
    "    print(\"X:\",tmpX)\n",
    "    print(\"y:\",tmpy)\n",
    "    print(\"Theta: \",tmpTheta )\n",
    "    #.reshape(1,-1)\n",
    "    "
   ]
  },
  {
   "cell_type": "code",
   "execution_count": null,
   "metadata": {},
   "outputs": [],
   "source": []
  }
 ],
 "metadata": {
  "kernelspec": {
   "display_name": "Python 3",
   "language": "python",
   "name": "python3"
  },
  "language_info": {
   "codemirror_mode": {
    "name": "ipython",
    "version": 3
   },
   "file_extension": ".py",
   "mimetype": "text/x-python",
   "name": "python",
   "nbconvert_exporter": "python",
   "pygments_lexer": "ipython3",
   "version": "3.5.4"
  }
 },
 "nbformat": 4,
 "nbformat_minor": 2
}
