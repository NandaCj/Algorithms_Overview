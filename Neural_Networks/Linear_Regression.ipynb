{
 "cells": [
  {
   "cell_type": "markdown",
   "metadata": {},
   "source": [
    "# Neural Network Explained with Multi Linear Regression\n",
    "    - Noraml Equation can be used in Tensorflow for finding best_theta \n",
    "    - Here its practised with Gradient Descent\n",
    "    - each time trainer run , then only one instance is trained "
   ]
  },
  {
   "cell_type": "code",
   "execution_count": 2,
   "metadata": {},
   "outputs": [],
   "source": [
    "%matplotlib inline\n",
    "import pandas as pd\n",
    "import numpy as np\n",
    "import matplotlib.pyplot as plt\n",
    "\n",
    "#Tensorflow\n",
    "import tensorflow as tf\n",
    "\n",
    "# Formatting...\n",
    "float_formatter = lambda x: \"%.4f\" % x\n",
    "np.set_printoptions(formatter={'float_kind':float_formatter})\n",
    "\n",
    "\n",
    "#Sklearn \n",
    "from sklearn.preprocessing import StandardScaler, MinMaxScaler\n",
    "from sklearn.linear_model import LinearRegression\n",
    "\n",
    "scaler = StandardScaler()\n",
    "normalizer = MinMaxScaler()"
   ]
  },
  {
   "cell_type": "markdown",
   "metadata": {},
   "source": [
    "# Data Prepared with Tensorflow"
   ]
  },
  {
   "cell_type": "code",
   "execution_count": 35,
   "metadata": {},
   "outputs": [
    {
     "name": "stdout",
     "output_type": "stream",
     "text": [
      "(10,) <class 'tensorflow.python.framework.ops.Tensor'> Tensor(\"range_14:0\", shape=(10,), dtype=int32)\n",
      "(10,) <class 'tensorflow.python.framework.ops.Tensor'> Tensor(\"mul_13:0\", shape=(10,), dtype=int32)\n"
     ]
    }
   ],
   "source": [
    "# X = tf.random_uniform((3, 3), minval=1, maxval=10, dtype=tf.int64)\n",
    "n = 10 \n",
    "\n",
    "X = tf.range(1, n + 1)\n",
    "y = X*2\n",
    "\n",
    "print(X.shape, type(X), X)\n",
    "print(y.shape, type(y), y)\n",
    "\n",
    "# no_of_weights = no_of_input_values (n)\n",
    "# weight = number_of_neurons\n",
    "# W = tf.Variable()"
   ]
  },
  {
   "cell_type": "code",
   "execution_count": 40,
   "metadata": {},
   "outputs": [
    {
     "name": "stdout",
     "output_type": "stream",
     "text": [
      "[ 1  2  3  4  5  6  7  8  9 10] [ 2  4  6  8 10 12 14 16 18 20]\n",
      "[[0.1547]\n",
      " [0.4685]\n",
      " [-0.5137]\n",
      " [-0.5538]\n",
      " [-0.8595]\n",
      " [-0.1510]\n",
      " [-0.7609]\n",
      " [-0.3259]\n",
      " [-0.2971]\n",
      " [-0.2133]]\n"
     ]
    }
   ],
   "source": [
    "theta = tf.Variable( tf.random_uniform([ 10, 1], -1.0, 1.0), name =\"theta\") \n",
    "init = tf.initialize_all_variables()\n",
    "with tf.Session() as sess:\n",
    "    print(X.eval(), y.eval())\n",
    "    sess.run(init)\n",
    "    print(theta.eval())\n",
    "    \n"
   ]
  },
  {
   "cell_type": "code",
   "execution_count": null,
   "metadata": {},
   "outputs": [],
   "source": [
    "with tf.Session() as sess:\n",
    "    \n",
    "    "
   ]
  }
 ],
 "metadata": {
  "kernelspec": {
   "display_name": "Python 3",
   "language": "python",
   "name": "python3"
  },
  "language_info": {
   "codemirror_mode": {
    "name": "ipython",
    "version": 3
   },
   "file_extension": ".py",
   "mimetype": "text/x-python",
   "name": "python",
   "nbconvert_exporter": "python",
   "pygments_lexer": "ipython3",
   "version": "3.6.5"
  }
 },
 "nbformat": 4,
 "nbformat_minor": 2
}
