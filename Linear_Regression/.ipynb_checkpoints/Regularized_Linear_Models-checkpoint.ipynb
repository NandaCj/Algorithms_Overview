{
 "cells": [
  {
   "cell_type": "markdown",
   "metadata": {},
   "source": [
    "# Regularization :\n",
    "### 1.  Linear Regression\n",
    "        - The change in algorithm to reduce the models overfitting\n",
    "        - Penalize the Feature and reduces the feature weights\n",
    "### 2.  Polynomial Regression\n",
    "        - It can be regularized by decreasing the degree "
   ]
  },
  {
   "cell_type": "markdown",
   "metadata": {},
   "source": [
    "# Popular Regularization Methods\n",
    "    - 1.Ridge Regression\n",
    "    - 2.Lasso Regression\n",
    "    - 3.ElasticNet Regression"
   ]
  },
  {
   "cell_type": "markdown",
   "metadata": {},
   "source": [
    "# Implementations on Housing Price Predictions"
   ]
  },
  {
   "cell_type": "code",
   "execution_count": null,
   "metadata": {},
   "outputs": [],
   "source": [
    "%matplotlib inline\n",
    "import os\n",
    "import pandas as pd\n",
    "import numpy as np\n",
    "import matplotlib.pyplot as plt\n",
    "pd.set_option('display.precision',3)\n",
    "pd.set_option('display.float_format', lambda x: '%.3f' % x)\n",
    "\n",
    "# Sklearn modules \n",
    "from sklearn.model_selection import train_test_split\n",
    "from sklearn.linear_model import LinearRegression\n",
    "from sklearn.linear_model import Ridge\n",
    "from sklearn.linear_model import Lasso\n",
    "from sklearn.linear_model import ElasticNet"
   ]
  },
  {
   "cell_type": "markdown",
   "metadata": {},
   "source": [
    "### Loading Data and First Look"
   ]
  },
  {
   "cell_type": "code",
   "execution_count": null,
   "metadata": {},
   "outputs": [],
   "source": [
    "Curr_Dir = os.path.dirname(os.getcwd())\n",
    "data_path = os.path.join(Curr_Dir , 'Datasets\\kc_housing\\kc_house_data.csv')\n",
    "Data = pd.read_csv(data_path)\n",
    "print(Data.shape)\n",
    "print(Data.info())\n",
    "print(Data.head())"
   ]
  },
  {
   "cell_type": "markdown",
   "metadata": {},
   "source": [
    "# Data Preparation"
   ]
  },
  {
   "cell_type": "code",
   "execution_count": null,
   "metadata": {},
   "outputs": [],
   "source": [
    "y = Data['price']\n",
    "X = Data.drop (['price', 'date'], axis=1)\n",
    "X_train, X_test, y_train, y_test = train_test_split(X, y, test_size=0.3)\n",
    "X_test.drop(['floors', 'sqft_lot', 'id', 'sqft_living15'], axis=1 , inplace=True)\n",
    "X_train.drop(['floors', 'sqft_lot', 'id', 'sqft_living15'] ,axis=1, inplace=True)"
   ]
  },
  {
   "cell_type": "markdown",
   "metadata": {},
   "source": [
    "# Appling Linear Regression"
   ]
  },
  {
   "cell_type": "code",
   "execution_count": null,
   "metadata": {},
   "outputs": [],
   "source": [
    "lr_reg = LinearRegression()\n",
    "lr_reg.fit(X_train, y_train)\n",
    "score = lr_reg.score(X_test, y_test)\n",
    "\n",
    "predicted_values = lr_reg.predict(X_test)\n",
    "\n",
    "plt.figure(figsize=(9,5))\n",
    "plt.title(\"Score : {}\".format(score))\n",
    "plt.scatter(x=X_train.sqft_living, y=y_train)\n",
    "plt.scatter(X_test.sqft_living, predicted_values, color='red', label='predicted')\n",
    "plt.legend()"
   ]
  },
  {
   "cell_type": "markdown",
   "metadata": {},
   "source": [
    "# Ridge Regression (also called Tikhonov regularization)\n",
    "    - Once the model is trained, you want to evaluate the model’s performance using the unregularized performance measure.\n",
    "    - Sensitive to the scale of the training Features , hence scaling is mandatory"
   ]
  },
  {
   "cell_type": "code",
   "execution_count": null,
   "metadata": {},
   "outputs": [],
   "source": [
    "lr_reg = Ridge(alpha=3)\n",
    "lr_reg.fit(X_train, y_train)\n",
    "score = lr_reg.score(X_test, y_test)\n",
    "\n",
    "predicted_values = lr_reg.predict(X_test)\n",
    "\n",
    "plt.figure(figsize=(9,5))\n",
    "plt.title(\"Score : {}\".format(score))\n",
    "plt.scatter(x=X_train.sqft_living, y=y_train)\n",
    "plt.scatter(X_test.sqft_living, predicted_values, color='red', label='predicted')\n",
    "plt.legend()"
   ]
  },
  {
   "cell_type": "code",
   "execution_count": null,
   "metadata": {},
   "outputs": [],
   "source": [
    "lr_reg = Lasso(alpha=100)\n",
    "lr_reg.fit(X_train, y_train)\n",
    "score = lr_reg.score(X_test, y_test)\n",
    "\n",
    "predicted_values = lr_reg.predict(X_test)\n",
    "\n",
    "plt.figure(figsize=(9,5))\n",
    "plt.title(\"Score : {}\".format(score))\n",
    "plt.scatter(x=X_train.sqft_living, y=y_train)\n",
    "plt.scatter(X_test.sqft_living, predicted_values, color='red', label='predicted')\n",
    "plt.legend()"
   ]
  },
  {
   "cell_type": "code",
   "execution_count": null,
   "metadata": {},
   "outputs": [],
   "source": [
    "lr_reg = ElasticNet(alpha=3, l1_ratio=0.5)\n",
    "lr_reg.fit(X_train, y_train)\n",
    "score = lr_reg.score(X_test, y_test)\n",
    "\n",
    "predicted_values = lr_reg.predict(X_test)\n",
    "\n",
    "plt.figure(figsize=(9,5))\n",
    "plt.title(\"Score : {}\".format(score))\n",
    "plt.scatter(x=X_train.sqft_living, y=y_train)\n",
    "plt.scatter(X_test.sqft_living, predicted_values, color='red', label='predicted')\n",
    "plt.legend()"
   ]
  },
  {
   "cell_type": "code",
   "execution_count": null,
   "metadata": {},
   "outputs": [],
   "source": []
  },
  {
   "cell_type": "code",
   "execution_count": null,
   "metadata": {},
   "outputs": [],
   "source": []
  },
  {
   "cell_type": "markdown",
   "metadata": {},
   "source": [
    "# Questions:\n",
    "    - What is L1 and L2 Regularization\n",
    "    - How to insert Formulas in Notebook"
   ]
  },
  {
   "cell_type": "code",
   "execution_count": null,
   "metadata": {},
   "outputs": [],
   "source": []
  }
 ],
 "metadata": {
  "kernelspec": {
   "display_name": "Python 3",
   "language": "python",
   "name": "python3"
  },
  "language_info": {
   "codemirror_mode": {
    "name": "ipython",
    "version": 3
   },
   "file_extension": ".py",
   "mimetype": "text/x-python",
   "name": "python",
   "nbconvert_exporter": "python",
   "pygments_lexer": "ipython3",
   "version": "3.6.0"
  }
 },
 "nbformat": 4,
 "nbformat_minor": 2
}
