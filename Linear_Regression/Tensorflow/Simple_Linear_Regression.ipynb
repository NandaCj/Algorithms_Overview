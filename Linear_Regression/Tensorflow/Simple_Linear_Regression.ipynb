{
 "cells": [
  {
   "cell_type": "code",
   "execution_count": 1,
   "metadata": {},
   "outputs": [],
   "source": [
    "%matplotlib inline\n",
    "import pandas as pd\n",
    "import numpy as np\n",
    "import matplotlib.pyplot as plt\n",
    "\n",
    "#Tensorflow\n",
    "import tensorflow as tf\n",
    "\n",
    "# Formatting...\n",
    "float_formatter = lambda x: \"%.4f\" % x\n",
    "np.set_printoptions(formatter={'float_kind':float_formatter})\n",
    "\n",
    "\n",
    "#Sklearn \n",
    "from sklearn.preprocessing import StandardScaler, MinMaxScaler\n",
    "from sklearn.linear_model import LinearRegression\n",
    "\n",
    "scaler = StandardScaler()\n",
    "normalizer = MinMaxScaler()"
   ]
  },
  {
   "cell_type": "markdown",
   "metadata": {},
   "source": [
    "# Tensorflow - Simple Linear Regression y = mX + c\n"
   ]
  },
  {
   "cell_type": "markdown",
   "metadata": {},
   "source": [
    "### Random Data and solving using Normal Equation"
   ]
  },
  {
   "cell_type": "code",
   "execution_count": 52,
   "metadata": {
    "collapsed": true
   },
   "outputs": [
    {
     "name": "stdout",
     "output_type": "stream",
     "text": [
      "[[1]\n",
      " [2]\n",
      " [3]\n",
      " [4]\n",
      " [5]] [[10]\n",
      " [20]\n",
      " [30]\n",
      " [40]\n",
      " [50]]\n"
     ]
    },
    {
     "data": {
      "text/plain": [
       "<matplotlib.collections.PathCollection at 0x1c963c42ac8>"
      ]
     },
     "execution_count": 52,
     "metadata": {},
     "output_type": "execute_result"
    },
    {
     "data": {
      "image/png": "[encoded data removed]",
      "text/plain": [
       "<Figure size 432x288 with 1 Axes>"
      ]
     },
     "metadata": {},
     "output_type": "display_data"
    }
   ],
   "source": [
    "limit = 5 + 1\n",
    "X = np.array([x for x in range(1, limit)]).reshape(-1, 1)\n",
    "y = np.array([x*10  for x in range(1, limit)]).reshape(-1, 1)\n",
    "\n",
    "print(X, y)\n",
    "plt.scatter(X, y)"
   ]
  },
  {
   "cell_type": "markdown",
   "metadata": {},
   "source": [
    "# Numpy Method 1"
   ]
  },
  {
   "cell_type": "code",
   "execution_count": 53,
   "metadata": {},
   "outputs": [
    {
     "name": "stdout",
     "output_type": "stream",
     "text": [
      "X_transpose :  [[1 2 3 4 5]]\n",
      "XtX :  [[55]]\n",
      "co_efficients: [[10.0000]]\n",
      "Predicted : [20.0000]\n"
     ]
    }
   ],
   "source": [
    "X_transpose = np.transpose(X)\n",
    "print(\"X_transpose : \", X_transpose)\n",
    "\n",
    "XtX = np.matmul(X_transpose, X)\n",
    "print(\"XtX : \", XtX)\n",
    "\n",
    "Xiy = np.matmul(X_transpose, y)\n",
    "\n",
    "co_efficients = np.matmul(np.linalg.inv(XtX), Xiy)\n",
    "\n",
    "print(\"co_efficients:\" ,co_efficients)\n",
    "\n",
    "\n",
    "\n",
    "print(\"Predicted : {}\".format(np.array([2]).dot(b)))"
   ]
  },
  {
   "cell_type": "markdown",
   "metadata": {},
   "source": [
    "# Numpy Method 2"
   ]
  },
  {
   "cell_type": "code",
   "execution_count": 56,
   "metadata": {},
   "outputs": [
    {
     "name": "stdout",
     "output_type": "stream",
     "text": [
      "co_efficients: [[10.0000]]\n",
      "Predicted : [20.0000]\n"
     ]
    }
   ],
   "source": [
    "b = np.linalg.inv(X.T.dot(X)).dot(X.T).dot(y)\n",
    "print(\"co_efficients:\", b)\n",
    "\n",
    "print(\"Predicted : {}\".format(np.array([2]).dot(b)))\n"
   ]
  },
  {
   "cell_type": "markdown",
   "metadata": {},
   "source": [
    "# Tensorflow Method"
   ]
  },
  {
   "cell_type": "code",
   "execution_count": 67,
   "metadata": {},
   "outputs": [],
   "source": [
    "# dtype is changed to float\n",
    "limit = 5 + 1\n",
    "X = np.array([x for x in range(1, limit)], dtype=np.float64).reshape(-1, 1)\n",
    "y = np.array([x*10  for x in range(1, limit)], dtype=np.float64).reshape(-1, 1)\n"
   ]
  },
  {
   "cell_type": "code",
   "execution_count": 71,
   "metadata": {},
   "outputs": [
    {
     "name": "stdout",
     "output_type": "stream",
     "text": [
      "[[10.0000]]\n"
     ]
    }
   ],
   "source": [
    "XT = tf.transpose(X)\n",
    "theta = tf.matmul(tf.matmul(tf.matrix_inverse(tf.matmul(XT, X)), XT), y)\n",
    "with tf.Session() as sess:\n",
    "    Theta = sess.run(theta)\n",
    "    print(Theta)"
   ]
  },
  {
   "cell_type": "code",
   "execution_count": null,
   "metadata": {},
   "outputs": [],
   "source": []
  }
 ],
 "metadata": {
  "kernelspec": {
   "display_name": "Python 3",
   "language": "python",
   "name": "python3"
  },
  "language_info": {
   "codemirror_mode": {
    "name": "ipython",
    "version": 3
   },
   "file_extension": ".py",
   "mimetype": "text/x-python",
   "name": "python",
   "nbconvert_exporter": "python",
   "pygments_lexer": "ipython3",
   "version": "3.6.5"
  }
 },
 "nbformat": 4,
 "nbformat_minor": 2
}
