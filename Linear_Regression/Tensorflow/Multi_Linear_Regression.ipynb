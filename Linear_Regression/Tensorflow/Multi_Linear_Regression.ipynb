{
 "cells": [
  {
   "cell_type": "code",
   "execution_count": 1,
   "metadata": {},
   "outputs": [],
   "source": [
    "%matplotlib inline\n",
    "import pandas as pd\n",
    "import numpy as np\n",
    "import matplotlib.pyplot as plt\n",
    "\n",
    "#Tensorflow\n",
    "import tensorflow as tf\n",
    "\n",
    "# Formatting...\n",
    "float_formatter = lambda x: \"%.4f\" % x\n",
    "np.set_printoptions(formatter={'float_kind':float_formatter})\n",
    "\n",
    "\n",
    "#Sklearn \n",
    "from sklearn.preprocessing import StandardScaler, MinMaxScaler\n",
    "from sklearn.linear_model import LinearRegression\n",
    "\n",
    "scaler = StandardScaler()\n",
    "normalizer = MinMaxScaler()"
   ]
  },
  {
   "cell_type": "markdown",
   "metadata": {},
   "source": [
    "# Tensorflow - Multi Linear Regression y = mX + c\n",
    "\n",
    "\n",
    "### Random Data and solving using Normal Equation"
   ]
  },
  {
   "cell_type": "code",
   "execution_count": 24,
   "metadata": {},
   "outputs": [
    {
     "name": "stdout",
     "output_type": "stream",
     "text": [
      "[1 2 3 4 5] [15 48 44 13 19]\n",
      "[[ 1 15]\n",
      " [ 2 48]\n",
      " [ 3 44]\n",
      " [ 4 13]\n",
      " [ 5 19]] [[49]\n",
      " [37]\n",
      " [26]\n",
      " [39]\n",
      " [33]]\n"
     ]
    },
    {
     "name": "stderr",
     "output_type": "stream",
     "text": [
      "c:\\users\\nandpara\\appdata\\local\\programs\\python\\python36\\lib\\site-packages\\ipykernel_launcher.py:3: DeprecationWarning: This function is deprecated. Please call randint(10, 50 + 1) instead\n",
      "  This is separate from the ipykernel package so we can avoid doing imports until\n",
      "c:\\users\\nandpara\\appdata\\local\\programs\\python\\python36\\lib\\site-packages\\ipykernel_launcher.py:8: DeprecationWarning: This function is deprecated. Please call randint(10, 50 + 1) instead\n",
      "  \n"
     ]
    },
    {
     "data": {
      "text/plain": [
       "<matplotlib.collections.PathCollection at 0x17d04a517f0>"
      ]
     },
     "execution_count": 24,
     "metadata": {},
     "output_type": "execute_result"
    },
    {
     "data": {
      "image/png": "[encoded data removed]",
      "text/plain": [
       "<Figure size 432x288 with 1 Axes>"
      ]
     },
     "metadata": {},
     "output_type": "display_data"
    }
   ],
   "source": [
    "limit = 5 + 1\n",
    "x1 = np.array([x for x in range(1, limit)])\n",
    "x2 = np.random.random_integers(10, 50, size=5)\n",
    "\n",
    "print(x1, x2)\n",
    "\n",
    "X = np.stack((x1, x2), axis=1)\n",
    "y = np.random.random_integers(10, 50, size=5).reshape(-1, 1)\n",
    "\n",
    "print(X, y)\n",
    "plt.scatter(X[...,0], y)"
   ]
  },
  {
   "cell_type": "markdown",
   "metadata": {},
   "source": [
    "# Numpy Method 1"
   ]
  },
  {
   "cell_type": "code",
   "execution_count": 25,
   "metadata": {},
   "outputs": [
    {
     "name": "stdout",
     "output_type": "stream",
     "text": [
      "X_transpose :  [[ 1  2  3  4  5]\n",
      " [15 48 44 13 19]]\n",
      "XtX :  [[  55  390]\n",
      " [ 390 4995]]\n",
      "Xiy : [[ 522]\n",
      " [4789]]\n",
      "Inv : [[0.0407 -0.0032]\n",
      " [-0.0032 0.0004]]\n",
      "co_efficients: [[6.0320]\n",
      " [0.4878]]\n"
     ]
    }
   ],
   "source": [
    "X_transpose = np.transpose(X)\n",
    "print(\"X_transpose : \", X_transpose)\n",
    "\n",
    "XtX = np.matmul(X_transpose, X)\n",
    "print(\"XtX : \", XtX)\n",
    "\n",
    "Xiy = np.matmul(X_transpose, y)\n",
    "print(\"Xiy :\",Xiy )\n",
    "\n",
    "Inv = np.linalg.inv(XtX)\n",
    "print(\"Inv :\", Inv)\n",
    "\n",
    "co_efficients = np.matmul(np.linalg.inv(XtX), Xiy)\n",
    "\n",
    "print(\"co_efficients:\" ,co_efficients)\n"
   ]
  },
  {
   "cell_type": "markdown",
   "metadata": {},
   "source": [
    "# Numpy Method 2"
   ]
  },
  {
   "cell_type": "code",
   "execution_count": 27,
   "metadata": {},
   "outputs": [
    {
     "name": "stdout",
     "output_type": "stream",
     "text": [
      "co_efficients: [[6.0320]\n",
      " [0.4878]]\n",
      "Predicted : [13.0397]\n"
     ]
    }
   ],
   "source": [
    "b = np.linalg.inv(X.T.dot(X)).dot(X.T).dot(y)\n",
    "print(\"co_efficients:\", b)\n",
    "\n",
    "print(\"Predicted : {}\".format(np.array([2, 2]).dot(b)))\n"
   ]
  },
  {
   "cell_type": "markdown",
   "metadata": {},
   "source": [
    "# Tensorflow Implementation"
   ]
  },
  {
   "cell_type": "code",
   "execution_count": 36,
   "metadata": {},
   "outputs": [
    {
     "name": "stdout",
     "output_type": "stream",
     "text": [
      "[1.0000 2.0000 3.0000 4.0000 5.0000] [0.3712 0.8209 0.3941 0.8543 0.4366]\n",
      "[[1.0000 0.3712]\n",
      " [2.0000 0.8209]\n",
      " [3.0000 0.3941]\n",
      " [4.0000 0.8543]\n",
      " [5.0000 0.4366]]\n",
      "[[0.1371]\n",
      " [-0.2873]]\n"
     ]
    }
   ],
   "source": [
    "# dtype is changed to float\n",
    "limit = 5 + 1\n",
    "x1 = np.array([x for x in range(1, limit)], dtype=np.float64)\n",
    "x2 = np.random.random(size=5)\n",
    "\n",
    "print(x1, x2)\n",
    "\n",
    "X = np.stack((x1, x2), axis=1)\n",
    "\n",
    "print(X)\n",
    "y = np.random.random(size=5).reshape(-1, 1)\n",
    "\n",
    "\n",
    "XT = tf.transpose(X)\n",
    "theta = tf.matmul(tf.matmul(tf.matrix_inverse(tf.matmul(XT, X)), XT), y)\n",
    "with tf.Session() as sess:\n",
    "    Theta = sess.run(theta)\n",
    "    print(Theta)"
   ]
  },
  {
   "cell_type": "code",
   "execution_count": null,
   "metadata": {},
   "outputs": [],
   "source": []
  }
 ],
 "metadata": {
  "kernelspec": {
   "display_name": "Python 3",
   "language": "python",
   "name": "python3"
  },
  "language_info": {
   "codemirror_mode": {
    "name": "ipython",
    "version": 3
   },
   "file_extension": ".py",
   "mimetype": "text/x-python",
   "name": "python",
   "nbconvert_exporter": "python",
   "pygments_lexer": "ipython3",
   "version": "3.6.5"
  }
 },
 "nbformat": 4,
 "nbformat_minor": 2
}
